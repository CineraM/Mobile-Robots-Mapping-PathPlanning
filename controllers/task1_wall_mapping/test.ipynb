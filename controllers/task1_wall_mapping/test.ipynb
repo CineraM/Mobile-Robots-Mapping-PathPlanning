{
 "cells": [
  {
   "cell_type": "code",
   "execution_count": 6,
   "metadata": {},
   "outputs": [
    {
     "name": "stdout",
     "output_type": "stream",
     "text": [
      "3 323232\n"
     ]
    }
   ],
   "source": [
    "s = \"3,323232\"\n",
    "coma_indx = s.find(',')\n",
    "node_i = int(s[:coma_indx])\n",
    "node_j = int(s[coma_indx+1:])\n",
    "\n",
    "print(a, b)"
   ]
  }
 ],
 "metadata": {
  "kernelspec": {
   "display_name": "Python 3",
   "language": "python",
   "name": "python3"
  },
  "language_info": {
   "codemirror_mode": {
    "name": "ipython",
    "version": 3
   },
   "file_extension": ".py",
   "mimetype": "text/x-python",
   "name": "python",
   "nbconvert_exporter": "python",
   "pygments_lexer": "ipython3",
   "version": "3.11.2"
  },
  "orig_nbformat": 4
 },
 "nbformat": 4,
 "nbformat_minor": 2
}
