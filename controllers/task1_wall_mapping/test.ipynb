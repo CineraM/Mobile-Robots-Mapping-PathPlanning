{
 "cells": [
  {
   "cell_type": "code",
   "execution_count": 18,
   "metadata": {},
   "outputs": [
    {
     "name": "stdout",
     "output_type": "stream",
     "text": [
      "Parent directory c:\\Users\\Ciner\\Documents\\GitHub\\Mobile-Robots-Mapping-PathPlanning\\controllers/graph.json\n"
     ]
    }
   ],
   "source": [
    "import json, os\n",
    "s = \"3,323232\"\n",
    "coma_indx = s.find(',')\n",
    "node_i = int(s[:coma_indx])\n",
    "node_j = int(s[coma_indx+1:])\n",
    "\n",
    "\n",
    "person = {1:12, 2:332}\n",
    "\n",
    "path = os.getcwd()\n",
    "path = os.path.dirname(path) + \"/graph.json\" \n",
    "print(\"Parent directory\", path)\n",
    "\n",
    "# filename = \n",
    "with open(path, \"w\") as fp:\n",
    "    json.dump(person, fp)"
   ]
  },
  {
   "cell_type": "code",
   "execution_count": 19,
   "metadata": {},
   "outputs": [
    {
     "name": "stdout",
     "output_type": "stream",
     "text": [
      "{'1': 12, '2': 332}\n"
     ]
    }
   ],
   "source": [
    "path = os.getcwd()\n",
    "path = os.path.dirname(path) + \"/graph.json\" \n",
    "\n",
    "with open(path, \"r\") as fp:\n",
    "    graph = json.load(fp)\n",
    "\n",
    "print(graph)"
   ]
  },
  {
   "cell_type": "code",
   "execution_count": 5,
   "metadata": {},
   "outputs": [
    {
     "name": "stdout",
     "output_type": "stream",
     "text": [
      "9\n"
     ]
    }
   ],
   "source": [
    "def updateGrid(self, tile):\n",
    "    i = tile//self.n\n",
    "    j = tile%self.n\n",
    "    self.grid[i][j] = 1\n",
    "\n",
    "i=2\n",
    "j=0\n",
    "x= i*4 + j + 1\n",
    "print(x)"
   ]
  }
 ],
 "metadata": {
  "kernelspec": {
   "display_name": "Python 3",
   "language": "python",
   "name": "python3"
  },
  "language_info": {
   "codemirror_mode": {
    "name": "ipython",
    "version": 3
   },
   "file_extension": ".py",
   "mimetype": "text/x-python",
   "name": "python",
   "nbconvert_exporter": "python",
   "pygments_lexer": "ipython3",
   "version": "3.9.13"
  },
  "orig_nbformat": 4
 },
 "nbformat": 4,
 "nbformat_minor": 2
}
